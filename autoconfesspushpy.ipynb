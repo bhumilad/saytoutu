{
 "cells": [
  {
   "cell_type": "code",
   "execution_count": 91,
   "metadata": {},
   "outputs": [],
   "source": [
    "import pandas as pd\n",
    "gurl = \"https://docs.google.com/spreadsheets/d/1QyRJTNd1eIOxjQXzOkhHnAfEvmZGTIix45fF24ylfck/gviz/tq?tqx=out:csv&sheet=confession\"\n",
    "data = pd.read_csv(gurl)"
   ]
  },
  {
   "cell_type": "code",
   "execution_count": 92,
   "metadata": {
    "scrolled": false
   },
   "outputs": [
    {
     "data": {
      "text/html": [
       "<div>\n",
       "<style scoped>\n",
       "    .dataframe tbody tr th:only-of-type {\n",
       "        vertical-align: middle;\n",
       "    }\n",
       "\n",
       "    .dataframe tbody tr th {\n",
       "        vertical-align: top;\n",
       "    }\n",
       "\n",
       "    .dataframe thead th {\n",
       "        text-align: right;\n",
       "    }\n",
       "</style>\n",
       "<table border=\"1\" class=\"dataframe\">\n",
       "  <thead>\n",
       "    <tr style=\"text-align: right;\">\n",
       "      <th></th>\n",
       "      <th>Name</th>\n",
       "      <th>dept</th>\n",
       "      <th>year</th>\n",
       "      <th>confession</th>\n",
       "    </tr>\n",
       "  </thead>\n",
       "  <tbody>\n",
       "    <tr>\n",
       "      <th>9</th>\n",
       "      <td>all the 2015-2019 batch</td>\n",
       "      <td>FALSE</td>\n",
       "      <td>NaN</td>\n",
       "      <td>I miss all the great time \\r\\nI miss PUSHPAM T...</td>\n",
       "    </tr>\n",
       "    <tr>\n",
       "      <th>10</th>\n",
       "      <td>Don't want to reveal</td>\n",
       "      <td>FALSE</td>\n",
       "      <td>1.0</td>\n",
       "      <td>You used me to the fullest didn't expect that ...</td>\n",
       "    </tr>\n",
       "    <tr>\n",
       "      <th>11</th>\n",
       "      <td>Hello</td>\n",
       "      <td>Civil</td>\n",
       "      <td>2.0</td>\n",
       "      <td>VVvgvgvgv</td>\n",
       "    </tr>\n",
       "    <tr>\n",
       "      <th>12</th>\n",
       "      <td>CE and IT</td>\n",
       "      <td>Others</td>\n",
       "      <td>1.0</td>\n",
       "      <td>Ye First year CE and IT wale kitne Chalu hain ...</td>\n",
       "    </tr>\n",
       "    <tr>\n",
       "      <th>13</th>\n",
       "      <td>Kate Marsh</td>\n",
       "      <td>Computer</td>\n",
       "      <td>NaN</td>\n",
       "      <td>I really Like Like Your Personality, Let's mee...</td>\n",
       "    </tr>\n",
       "  </tbody>\n",
       "</table>\n",
       "</div>"
      ],
      "text/plain": [
       "                        Name      dept  year  \\\n",
       "9   all the 2015-2019 batch      FALSE   NaN   \n",
       "10      Don't want to reveal     FALSE   1.0   \n",
       "11                     Hello     Civil   2.0   \n",
       "12                CE and IT     Others   1.0   \n",
       "13                Kate Marsh  Computer   NaN   \n",
       "\n",
       "                                           confession  \n",
       "9   I miss all the great time \\r\\nI miss PUSHPAM T...  \n",
       "10  You used me to the fullest didn't expect that ...  \n",
       "11                                          VVvgvgvgv  \n",
       "12  Ye First year CE and IT wale kitne Chalu hain ...  \n",
       "13  I really Like Like Your Personality, Let's mee...  "
      ]
     },
     "execution_count": 92,
     "metadata": {},
     "output_type": "execute_result"
    }
   ],
   "source": [
    "data.tail()"
   ]
  },
  {
   "cell_type": "code",
   "execution_count": 94,
   "metadata": {},
   "outputs": [],
   "source": [
    "data[\"year\"].fillna(\"9\", inplace = True)\n",
    "data['year'] = data['year'].astype(int)"
   ]
  },
  {
   "cell_type": "code",
   "execution_count": 103,
   "metadata": {},
   "outputs": [
    {
     "data": {
      "text/html": [
       "<div>\n",
       "<style scoped>\n",
       "    .dataframe tbody tr th:only-of-type {\n",
       "        vertical-align: middle;\n",
       "    }\n",
       "\n",
       "    .dataframe tbody tr th {\n",
       "        vertical-align: top;\n",
       "    }\n",
       "\n",
       "    .dataframe thead th {\n",
       "        text-align: right;\n",
       "    }\n",
       "</style>\n",
       "<table border=\"1\" class=\"dataframe\">\n",
       "  <thead>\n",
       "    <tr style=\"text-align: right;\">\n",
       "      <th></th>\n",
       "      <th>Name</th>\n",
       "      <th>dept</th>\n",
       "      <th>year</th>\n",
       "      <th>confession</th>\n",
       "    </tr>\n",
       "  </thead>\n",
       "  <tbody>\n",
       "    <tr>\n",
       "      <th>0</th>\n",
       "      <td>Parth Desai</td>\n",
       "      <td>Other</td>\n",
       "      <td>1</td>\n",
       "      <td>Parth tera name mene DesiParth rakha he Desai ...</td>\n",
       "    </tr>\n",
       "    <tr>\n",
       "      <th>1</th>\n",
       "      <td>Hai</td>\n",
       "      <td>Computer</td>\n",
       "      <td>2</td>\n",
       "      <td>Jjdj</td>\n",
       "    </tr>\n",
       "    <tr>\n",
       "      <th>2</th>\n",
       "      <td>Jignesh</td>\n",
       "      <td>Others</td>\n",
       "      <td>1</td>\n",
       "      <td>Bhai jignesh, mere 750 rps wapis de de, kb tk ...</td>\n",
       "    </tr>\n",
       "    <tr>\n",
       "      <th>3</th>\n",
       "      <td>All</td>\n",
       "      <td>Others</td>\n",
       "      <td>0</td>\n",
       "      <td>Corona ma Social destansin nu palan karo m*m</td>\n",
       "    </tr>\n",
       "    <tr>\n",
       "      <th>4</th>\n",
       "      <td>ALL</td>\n",
       "      <td>FALSE</td>\n",
       "      <td>0</td>\n",
       "      <td>अगर दिल न मिले तो प्यार अधूरा होता है,\\r\\nचाँद...</td>\n",
       "    </tr>\n",
       "    <tr>\n",
       "      <th>5</th>\n",
       "      <td>Shivani</td>\n",
       "      <td>FALSE</td>\n",
       "      <td>0</td>\n",
       "      <td>I am really shy to say you directly, but I LOV...</td>\n",
       "    </tr>\n",
       "    <tr>\n",
       "      <th>6</th>\n",
       "      <td>To:- Rutvik Parmar</td>\n",
       "      <td>Pharm.D</td>\n",
       "      <td>2</td>\n",
       "      <td>Bhai kab tak akele akele cricket khelegaa hume...</td>\n",
       "    </tr>\n",
       "    <tr>\n",
       "      <th>7</th>\n",
       "      <td>Rutvik Parmar</td>\n",
       "      <td>Others</td>\n",
       "      <td>2</td>\n",
       "      <td>Bhai harroz akele akele cricket khelate ho kab...</td>\n",
       "    </tr>\n",
       "    <tr>\n",
       "      <th>8</th>\n",
       "      <td>naam nahi batana</td>\n",
       "      <td>FALSE</td>\n",
       "      <td>Not want to mention</td>\n",
       "      <td>I love you pagal😘😘❤️❤️ but as a Friend😘😘😘</td>\n",
       "    </tr>\n",
       "    <tr>\n",
       "      <th>9</th>\n",
       "      <td>all the 2015-2019 batch</td>\n",
       "      <td>FALSE</td>\n",
       "      <td>9</td>\n",
       "      <td>I miss all the great time \\r\\nI miss PUSHPAM T...</td>\n",
       "    </tr>\n",
       "    <tr>\n",
       "      <th>10</th>\n",
       "      <td>Don't want to reveal</td>\n",
       "      <td>FALSE</td>\n",
       "      <td>1</td>\n",
       "      <td>You used me to the fullest didn't expect that ...</td>\n",
       "    </tr>\n",
       "    <tr>\n",
       "      <th>11</th>\n",
       "      <td>Hello</td>\n",
       "      <td>Civil</td>\n",
       "      <td>2</td>\n",
       "      <td>VVvgvgvgv</td>\n",
       "    </tr>\n",
       "    <tr>\n",
       "      <th>12</th>\n",
       "      <td>CE and IT</td>\n",
       "      <td>Others</td>\n",
       "      <td>1</td>\n",
       "      <td>Ye First year CE and IT wale kitne Chalu hain ...</td>\n",
       "    </tr>\n",
       "    <tr>\n",
       "      <th>13</th>\n",
       "      <td>Kate Marsh</td>\n",
       "      <td>Computer</td>\n",
       "      <td>9</td>\n",
       "      <td>I really Like Like Your Personality, Let's mee...</td>\n",
       "    </tr>\n",
       "  </tbody>\n",
       "</table>\n",
       "</div>"
      ],
      "text/plain": [
       "                        Name      dept                 year  \\\n",
       "0                Parth Desai     Other                    1   \n",
       "1                        Hai  Computer                    2   \n",
       "2                    Jignesh    Others                    1   \n",
       "3                        All    Others                    0   \n",
       "4                        ALL     FALSE                    0   \n",
       "5                    Shivani     FALSE                    0   \n",
       "6         To:- Rutvik Parmar   Pharm.D                    2   \n",
       "7              Rutvik Parmar    Others                    2   \n",
       "8           naam nahi batana     FALSE  Not want to mention   \n",
       "9   all the 2015-2019 batch      FALSE                    9   \n",
       "10      Don't want to reveal     FALSE                    1   \n",
       "11                     Hello     Civil                    2   \n",
       "12                CE and IT     Others                    1   \n",
       "13                Kate Marsh  Computer                    9   \n",
       "\n",
       "                                           confession  \n",
       "0   Parth tera name mene DesiParth rakha he Desai ...  \n",
       "1                                                Jjdj  \n",
       "2   Bhai jignesh, mere 750 rps wapis de de, kb tk ...  \n",
       "3        Corona ma Social destansin nu palan karo m*m  \n",
       "4   अगर दिल न मिले तो प्यार अधूरा होता है,\\r\\nचाँद...  \n",
       "5   I am really shy to say you directly, but I LOV...  \n",
       "6   Bhai kab tak akele akele cricket khelegaa hume...  \n",
       "7   Bhai harroz akele akele cricket khelate ho kab...  \n",
       "8           I love you pagal😘😘❤️❤️ but as a Friend😘😘😘  \n",
       "9   I miss all the great time \\r\\nI miss PUSHPAM T...  \n",
       "10  You used me to the fullest didn't expect that ...  \n",
       "11                                          VVvgvgvgv  \n",
       "12  Ye First year CE and IT wale kitne Chalu hain ...  \n",
       "13  I really Like Like Your Personality, Let's mee...  "
      ]
     },
     "execution_count": 103,
     "metadata": {},
     "output_type": "execute_result"
    }
   ],
   "source": [
    "data"
   ]
  },
  {
   "cell_type": "code",
   "execution_count": null,
   "metadata": {},
   "outputs": [],
   "source": []
  },
  {
   "cell_type": "code",
   "execution_count": 32,
   "metadata": {},
   "outputs": [
    {
     "data": {
      "text/plain": [
       "['Name', 'dept', 'year', 'confession']"
      ]
     },
     "execution_count": 32,
     "metadata": {},
     "output_type": "execute_result"
    }
   ],
   "source": [
    "data.columns.tolist()"
   ]
  },
  {
   "cell_type": "code",
   "execution_count": 104,
   "metadata": {},
   "outputs": [],
   "source": [
    "personNum = 12\n",
    "namec = data[\"Name\"][personNum]\n",
    "deptc = data[\"dept\"][personNum]\n",
    "yearc = data[\"year\"][personNum]\n",
    "if(data[\"year\"][personNum]==9):\n",
    "    yearc = \"Not want to mention\"\n",
    "confessionc = data[\"confession\"][personNum]"
   ]
  },
  {
   "cell_type": "code",
   "execution_count": 105,
   "metadata": {},
   "outputs": [
    {
     "data": {
      "text/plain": [
       "'CE and IT '"
      ]
     },
     "execution_count": 105,
     "metadata": {},
     "output_type": "execute_result"
    }
   ],
   "source": [
    "namec"
   ]
  },
  {
   "cell_type": "code",
   "execution_count": 106,
   "metadata": {},
   "outputs": [],
   "source": [
    "deptc = \"Not want to mention\""
   ]
  },
  {
   "cell_type": "code",
   "execution_count": 107,
   "metadata": {},
   "outputs": [
    {
     "data": {
      "text/plain": [
       "1"
      ]
     },
     "execution_count": 107,
     "metadata": {},
     "output_type": "execute_result"
    }
   ],
   "source": [
    "yearc"
   ]
  },
  {
   "cell_type": "code",
   "execution_count": 108,
   "metadata": {},
   "outputs": [],
   "source": [
    "str = \"\"\"        \n",
    "<div class=\\\"row\\\">\n",
    "\n",
    "    <div class=\\\"col s12 m6 l6\\\">\n",
    "\n",
    "        <div class=\\\"card blue\\\">\n",
    "\n",
    "            <div class=\\\"card-content white-text\\\">\n",
    "\n",
    "                <span class=\\\"card-title\\\">To: {} </span>\n",
    "                    <span>Department: {}</span><br>\n",
    "                        <span>Year: {}</span>\n",
    "                            <p>Confession:{}</p>\n",
    "            </div>\n",
    "        </div>\n",
    "    </div>\n",
    "\n",
    "\"\"\";"
   ]
  },
  {
   "cell_type": "code",
   "execution_count": 109,
   "metadata": {},
   "outputs": [],
   "source": [
    "str = str.format(namec,deptc,yearc,confessionc)"
   ]
  },
  {
   "cell_type": "code",
   "execution_count": 110,
   "metadata": {},
   "outputs": [
    {
     "data": {
      "text/plain": [
       "'        \\n<div class=\"row\">\\n\\n    <div class=\"col s12 m6 l6\">\\n\\n        <div class=\"card blue\">\\n\\n            <div class=\"card-content white-text\">\\n\\n                <span class=\"card-title\">To: CE and IT  </span>\\n                    <span>Department: Not want to mention</span><br>\\n                        <span>Year: 1</span>\\n                            <p>Confession:Ye First year CE and IT wale kitne Chalu hain Aate hi Chalu kardiya. </p>\\n            </div>\\n        </div>\\n    </div>\\n\\n'"
      ]
     },
     "execution_count": 110,
     "metadata": {},
     "output_type": "execute_result"
    }
   ],
   "source": [
    "str"
   ]
  },
  {
   "cell_type": "code",
   "execution_count": 47,
   "metadata": {},
   "outputs": [],
   "source": []
  },
  {
   "cell_type": "code",
   "execution_count": null,
   "metadata": {},
   "outputs": [],
   "source": []
  },
  {
   "cell_type": "code",
   "execution_count": null,
   "metadata": {},
   "outputs": [],
   "source": []
  },
  {
   "cell_type": "code",
   "execution_count": null,
   "metadata": {},
   "outputs": [],
   "source": []
  }
 ],
 "metadata": {
  "kernelspec": {
   "display_name": "Python 3",
   "language": "python",
   "name": "python3"
  },
  "language_info": {
   "codemirror_mode": {
    "name": "ipython",
    "version": 3
   },
   "file_extension": ".py",
   "mimetype": "text/x-python",
   "name": "python",
   "nbconvert_exporter": "python",
   "pygments_lexer": "ipython3",
   "version": "3.8.5"
  }
 },
 "nbformat": 4,
 "nbformat_minor": 4
}
