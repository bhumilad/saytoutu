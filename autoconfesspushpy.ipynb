{
 "cells": [
  {
   "cell_type": "markdown",
   "metadata": {},
   "source": [
    "# Import Lib and import data"
   ]
  },
  {
   "cell_type": "code",
   "execution_count": null,
   "metadata": {},
   "outputs": [],
   "source": [
    "import pandas as pd\n",
    "gurl = \"https://docs.google.com/spreadsheets/d/1QyRJTNd1eIOxjQXzOkhHnAfEvmZGTIix45fF24ylfck/gviz/tq?tqx=out:csv&sheet=confession\"\n",
    "data = pd.read_csv(gurl)"
   ]
  },
  {
   "cell_type": "markdown",
   "metadata": {},
   "source": [
    "# Let's remove duplicate value"
   ]
  },
  {
   "cell_type": "code",
   "execution_count": null,
   "metadata": {},
   "outputs": [],
   "source": [
    "data.drop_duplicates(subset =\"confession\",\n",
    "                     keep = \"last\", inplace = True)"
   ]
  },
  {
   "cell_type": "markdown",
   "metadata": {},
   "source": [
    "# Data Wranglling"
   ]
  },
  {
   "cell_type": "code",
   "execution_count": null,
   "metadata": {},
   "outputs": [],
   "source": [
    "data[\"year\"].fillna(\"9\", inplace = True)\n",
    "data['year'] = data['year'].astype(int)\n",
    "data['dept'] = data['dept'].replace(['FALSE'],['Not want to mention'])"
   ]
  },
  {
   "cell_type": "code",
   "execution_count": null,
   "metadata": {
    "scrolled": false
   },
   "outputs": [],
   "source": [
    "data.tail()"
   ]
  },
  {
   "cell_type": "code",
   "execution_count": null,
   "metadata": {},
   "outputs": [],
   "source": [
    "data"
   ]
  },
  {
   "cell_type": "code",
   "execution_count": null,
   "metadata": {},
   "outputs": [],
   "source": [
    "data.tail()"
   ]
  },
  {
   "cell_type": "code",
   "execution_count": null,
   "metadata": {},
   "outputs": [],
   "source": [
    "personNum = int(input(\"Enter a number\"))\n",
    "namec = data[\"Name\"][personNum]\n",
    "deptc = data[\"dept\"][personNum]\n",
    "yearc = data[\"year\"][personNum]\n",
    "if(data[\"year\"][personNum]==9):\n",
    "    yearc = \"Not want to mention\"\n",
    "confessionc = data[\"confession\"][personNum]"
   ]
  },
  {
   "cell_type": "code",
   "execution_count": null,
   "metadata": {},
   "outputs": [],
   "source": [
    "namec"
   ]
  },
  {
   "cell_type": "code",
   "execution_count": null,
   "metadata": {},
   "outputs": [],
   "source": [
    "deptc "
   ]
  },
  {
   "cell_type": "code",
   "execution_count": null,
   "metadata": {},
   "outputs": [],
   "source": [
    "yearc"
   ]
  },
  {
   "cell_type": "code",
   "execution_count": null,
   "metadata": {},
   "outputs": [],
   "source": [
    "str = \"\"\"        \n",
    "<div class=\\\"row\\\">\n",
    "\n",
    "    <div class=\\\"col s12 m6 l6\\\">\n",
    "\n",
    "        <div class=\\\"card blue\\\">\n",
    "\n",
    "            <div class=\\\"card-content white-text\\\">\n",
    "\n",
    "                <span class=\\\"card-title\\\">To: {} </span>\n",
    "                    <span>Department: {}</span><br>\n",
    "                        <span>Year: {}</span>\n",
    "                            <p>Confession:{}</p>\n",
    "            </div>\n",
    "        </div>\n",
    "    </div>\n",
    "\n",
    "\"\"\";"
   ]
  },
  {
   "cell_type": "code",
   "execution_count": null,
   "metadata": {},
   "outputs": [],
   "source": [
    "str = str.format(namec,deptc,yearc,confessionc)"
   ]
  },
  {
   "cell_type": "code",
   "execution_count": null,
   "metadata": {},
   "outputs": [],
   "source": [
    "str"
   ]
  },
  {
   "cell_type": "code",
   "execution_count": null,
   "metadata": {},
   "outputs": [],
   "source": [
    "f = open(\"view.html\", mode=\"r\", encoding=\"utf-8\")\n",
    "contents = f.readlines()\n",
    "f.close()\n",
    "#this code will append html code on line no 65\n",
    "contents.insert(65, str)\n",
    "\n",
    "f = open(\"view.html\", mode=\"w\", encoding=\"utf-8\")\n",
    "contents = \"\".join(contents)\n",
    "f.write(contents)\n",
    "f.close()"
   ]
  },
  {
   "cell_type": "code",
   "execution_count": null,
   "metadata": {},
   "outputs": [],
   "source": []
  },
  {
   "cell_type": "code",
   "execution_count": null,
   "metadata": {},
   "outputs": [],
   "source": []
  },
  {
   "cell_type": "code",
   "execution_count": null,
   "metadata": {},
   "outputs": [],
   "source": []
  }
 ],
 "metadata": {
  "kernelspec": {
   "display_name": "Python 3",
   "language": "python",
   "name": "python3"
  },
  "language_info": {
   "codemirror_mode": {
    "name": "ipython",
    "version": 3
   },
   "file_extension": ".py",
   "mimetype": "text/x-python",
   "name": "python",
   "nbconvert_exporter": "python",
   "pygments_lexer": "ipython3",
   "version": "3.8.5"
  }
 },
 "nbformat": 4,
 "nbformat_minor": 4
}
