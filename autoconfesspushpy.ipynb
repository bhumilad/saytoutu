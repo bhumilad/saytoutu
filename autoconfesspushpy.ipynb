{
 "cells": [
  {
   "cell_type": "code",
   "execution_count": 112,
   "metadata": {},
   "outputs": [],
   "source": [
    "import pandas as pd\n",
    "gurl = \"https://docs.google.com/spreadsheets/d/1QyRJTNd1eIOxjQXzOkhHnAfEvmZGTIix45fF24ylfck/gviz/tq?tqx=out:csv&sheet=confession\"\n",
    "data = pd.read_csv(gurl)"
   ]
  },
  {
   "cell_type": "code",
   "execution_count": 113,
   "metadata": {
    "scrolled": false
   },
   "outputs": [
    {
     "data": {
      "text/html": [
       "<div>\n",
       "<style scoped>\n",
       "    .dataframe tbody tr th:only-of-type {\n",
       "        vertical-align: middle;\n",
       "    }\n",
       "\n",
       "    .dataframe tbody tr th {\n",
       "        vertical-align: top;\n",
       "    }\n",
       "\n",
       "    .dataframe thead th {\n",
       "        text-align: right;\n",
       "    }\n",
       "</style>\n",
       "<table border=\"1\" class=\"dataframe\">\n",
       "  <thead>\n",
       "    <tr style=\"text-align: right;\">\n",
       "      <th></th>\n",
       "      <th>Name</th>\n",
       "      <th>dept</th>\n",
       "      <th>year</th>\n",
       "      <th>confession</th>\n",
       "    </tr>\n",
       "  </thead>\n",
       "  <tbody>\n",
       "    <tr>\n",
       "      <th>15</th>\n",
       "      <td>admin</td>\n",
       "      <td>AI&amp;DC</td>\n",
       "      <td>1.0</td>\n",
       "      <td>its not ai&amp;dc its ai&amp;ds</td>\n",
       "    </tr>\n",
       "    <tr>\n",
       "      <th>16</th>\n",
       "      <td>admin</td>\n",
       "      <td>AI&amp;DC</td>\n",
       "      <td>1.0</td>\n",
       "      <td>its not ai&amp;dc its ai&amp;ds</td>\n",
       "    </tr>\n",
       "    <tr>\n",
       "      <th>17</th>\n",
       "      <td>Kavita</td>\n",
       "      <td>AI&amp;DC</td>\n",
       "      <td>1.0</td>\n",
       "      <td>I think vivek patel likes you</td>\n",
       "    </tr>\n",
       "    <tr>\n",
       "      <th>18</th>\n",
       "      <td>vivek</td>\n",
       "      <td>AI&amp;DC</td>\n",
       "      <td>1.0</td>\n",
       "      <td>I think kavita patel likes you</td>\n",
       "    </tr>\n",
       "    <tr>\n",
       "      <th>19</th>\n",
       "      <td>Anyone who creates this situation</td>\n",
       "      <td>Not want to mention</td>\n",
       "      <td>0.0</td>\n",
       "      <td>Whoever reads this, first of all have a good d...</td>\n",
       "    </tr>\n",
       "  </tbody>\n",
       "</table>\n",
       "</div>"
      ],
      "text/plain": [
       "                                  Name                 dept  year  \\\n",
       "15                               admin                AI&DC   1.0   \n",
       "16                               admin                AI&DC   1.0   \n",
       "17                             Kavita                 AI&DC   1.0   \n",
       "18                               vivek                AI&DC   1.0   \n",
       "19  Anyone who creates this situation   Not want to mention   0.0   \n",
       "\n",
       "                                           confession  \n",
       "15                            its not ai&dc its ai&ds  \n",
       "16                            its not ai&dc its ai&ds  \n",
       "17                     I think vivek patel likes you   \n",
       "18                    I think kavita patel likes you   \n",
       "19  Whoever reads this, first of all have a good d...  "
      ]
     },
     "execution_count": 113,
     "metadata": {},
     "output_type": "execute_result"
    }
   ],
   "source": [
    "data.tail()"
   ]
  },
  {
   "cell_type": "code",
   "execution_count": 114,
   "metadata": {},
   "outputs": [],
   "source": [
    "data[\"year\"].fillna(\"9\", inplace = True)\n",
    "data['year'] = data['year'].astype(int)"
   ]
  },
  {
   "cell_type": "code",
   "execution_count": 115,
   "metadata": {},
   "outputs": [
    {
     "data": {
      "text/html": [
       "<div>\n",
       "<style scoped>\n",
       "    .dataframe tbody tr th:only-of-type {\n",
       "        vertical-align: middle;\n",
       "    }\n",
       "\n",
       "    .dataframe tbody tr th {\n",
       "        vertical-align: top;\n",
       "    }\n",
       "\n",
       "    .dataframe thead th {\n",
       "        text-align: right;\n",
       "    }\n",
       "</style>\n",
       "<table border=\"1\" class=\"dataframe\">\n",
       "  <thead>\n",
       "    <tr style=\"text-align: right;\">\n",
       "      <th></th>\n",
       "      <th>Name</th>\n",
       "      <th>dept</th>\n",
       "      <th>year</th>\n",
       "      <th>confession</th>\n",
       "    </tr>\n",
       "  </thead>\n",
       "  <tbody>\n",
       "    <tr>\n",
       "      <th>0</th>\n",
       "      <td>Parth Desai</td>\n",
       "      <td>Other</td>\n",
       "      <td>1</td>\n",
       "      <td>Parth tera name mene DesiParth rakha he Desai ...</td>\n",
       "    </tr>\n",
       "    <tr>\n",
       "      <th>1</th>\n",
       "      <td>Hai</td>\n",
       "      <td>Computer</td>\n",
       "      <td>2</td>\n",
       "      <td>Jjdj</td>\n",
       "    </tr>\n",
       "    <tr>\n",
       "      <th>2</th>\n",
       "      <td>Jignesh</td>\n",
       "      <td>Others</td>\n",
       "      <td>1</td>\n",
       "      <td>Bhai jignesh, mere 750 rps wapis de de, kb tk ...</td>\n",
       "    </tr>\n",
       "    <tr>\n",
       "      <th>3</th>\n",
       "      <td>All</td>\n",
       "      <td>Others</td>\n",
       "      <td>0</td>\n",
       "      <td>Corona ma Social destansin nu palan karo m*m</td>\n",
       "    </tr>\n",
       "    <tr>\n",
       "      <th>4</th>\n",
       "      <td>ALL</td>\n",
       "      <td>FALSE</td>\n",
       "      <td>0</td>\n",
       "      <td>अगर दिल न मिले तो प्यार अधूरा होता है,\\r\\nचाँद...</td>\n",
       "    </tr>\n",
       "    <tr>\n",
       "      <th>5</th>\n",
       "      <td>Shivani</td>\n",
       "      <td>FALSE</td>\n",
       "      <td>0</td>\n",
       "      <td>I am really shy to say you directly, but I LOV...</td>\n",
       "    </tr>\n",
       "    <tr>\n",
       "      <th>6</th>\n",
       "      <td>To:- Rutvik Parmar</td>\n",
       "      <td>Pharm.D</td>\n",
       "      <td>2</td>\n",
       "      <td>Bhai kab tak akele akele cricket khelegaa hume...</td>\n",
       "    </tr>\n",
       "    <tr>\n",
       "      <th>7</th>\n",
       "      <td>Rutvik Parmar</td>\n",
       "      <td>Others</td>\n",
       "      <td>2</td>\n",
       "      <td>Bhai harroz akele akele cricket khelate ho kab...</td>\n",
       "    </tr>\n",
       "    <tr>\n",
       "      <th>8</th>\n",
       "      <td>naam nahi batana</td>\n",
       "      <td>FALSE</td>\n",
       "      <td>9</td>\n",
       "      <td>I love you pagal😘😘❤️❤️ but as a Friend😘😘😘</td>\n",
       "    </tr>\n",
       "    <tr>\n",
       "      <th>9</th>\n",
       "      <td>all the 2015-2019 batch</td>\n",
       "      <td>FALSE</td>\n",
       "      <td>9</td>\n",
       "      <td>I miss all the great time \\r\\nI miss PUSHPAM T...</td>\n",
       "    </tr>\n",
       "    <tr>\n",
       "      <th>10</th>\n",
       "      <td>Don't want to reveal</td>\n",
       "      <td>FALSE</td>\n",
       "      <td>1</td>\n",
       "      <td>You used me to the fullest didn't expect that ...</td>\n",
       "    </tr>\n",
       "    <tr>\n",
       "      <th>11</th>\n",
       "      <td>Hello</td>\n",
       "      <td>Civil</td>\n",
       "      <td>2</td>\n",
       "      <td>VVvgvgvgv</td>\n",
       "    </tr>\n",
       "    <tr>\n",
       "      <th>12</th>\n",
       "      <td>CE and IT</td>\n",
       "      <td>Others</td>\n",
       "      <td>1</td>\n",
       "      <td>Ye First year CE and IT wale kitne Chalu hain ...</td>\n",
       "    </tr>\n",
       "    <tr>\n",
       "      <th>13</th>\n",
       "      <td>Kate Marsh</td>\n",
       "      <td>Computer</td>\n",
       "      <td>9</td>\n",
       "      <td>I really Like Like Your Personality, Let's mee...</td>\n",
       "    </tr>\n",
       "    <tr>\n",
       "      <th>14</th>\n",
       "      <td>Vivek</td>\n",
       "      <td>MCA</td>\n",
       "      <td>1</td>\n",
       "      <td>Fuck you</td>\n",
       "    </tr>\n",
       "    <tr>\n",
       "      <th>15</th>\n",
       "      <td>admin</td>\n",
       "      <td>AI&amp;DC</td>\n",
       "      <td>1</td>\n",
       "      <td>its not ai&amp;dc its ai&amp;ds</td>\n",
       "    </tr>\n",
       "    <tr>\n",
       "      <th>16</th>\n",
       "      <td>admin</td>\n",
       "      <td>AI&amp;DC</td>\n",
       "      <td>1</td>\n",
       "      <td>its not ai&amp;dc its ai&amp;ds</td>\n",
       "    </tr>\n",
       "    <tr>\n",
       "      <th>17</th>\n",
       "      <td>Kavita</td>\n",
       "      <td>AI&amp;DC</td>\n",
       "      <td>1</td>\n",
       "      <td>I think vivek patel likes you</td>\n",
       "    </tr>\n",
       "    <tr>\n",
       "      <th>18</th>\n",
       "      <td>vivek</td>\n",
       "      <td>AI&amp;DC</td>\n",
       "      <td>1</td>\n",
       "      <td>I think kavita patel likes you</td>\n",
       "    </tr>\n",
       "    <tr>\n",
       "      <th>19</th>\n",
       "      <td>Anyone who creates this situation</td>\n",
       "      <td>Not want to mention</td>\n",
       "      <td>0</td>\n",
       "      <td>Whoever reads this, first of all have a good d...</td>\n",
       "    </tr>\n",
       "  </tbody>\n",
       "</table>\n",
       "</div>"
      ],
      "text/plain": [
       "                                  Name                 dept  year  \\\n",
       "0                          Parth Desai                Other     1   \n",
       "1                                  Hai             Computer     2   \n",
       "2                              Jignesh               Others     1   \n",
       "3                                  All               Others     0   \n",
       "4                                  ALL                FALSE     0   \n",
       "5                              Shivani                FALSE     0   \n",
       "6                   To:- Rutvik Parmar              Pharm.D     2   \n",
       "7                        Rutvik Parmar               Others     2   \n",
       "8                     naam nahi batana                FALSE     9   \n",
       "9             all the 2015-2019 batch                 FALSE     9   \n",
       "10                Don't want to reveal                FALSE     1   \n",
       "11                               Hello                Civil     2   \n",
       "12                          CE and IT                Others     1   \n",
       "13                          Kate Marsh             Computer     9   \n",
       "14                               Vivek                  MCA     1   \n",
       "15                               admin                AI&DC     1   \n",
       "16                               admin                AI&DC     1   \n",
       "17                             Kavita                 AI&DC     1   \n",
       "18                               vivek                AI&DC     1   \n",
       "19  Anyone who creates this situation   Not want to mention     0   \n",
       "\n",
       "                                           confession  \n",
       "0   Parth tera name mene DesiParth rakha he Desai ...  \n",
       "1                                                Jjdj  \n",
       "2   Bhai jignesh, mere 750 rps wapis de de, kb tk ...  \n",
       "3        Corona ma Social destansin nu palan karo m*m  \n",
       "4   अगर दिल न मिले तो प्यार अधूरा होता है,\\r\\nचाँद...  \n",
       "5   I am really shy to say you directly, but I LOV...  \n",
       "6   Bhai kab tak akele akele cricket khelegaa hume...  \n",
       "7   Bhai harroz akele akele cricket khelate ho kab...  \n",
       "8           I love you pagal😘😘❤️❤️ but as a Friend😘😘😘  \n",
       "9   I miss all the great time \\r\\nI miss PUSHPAM T...  \n",
       "10  You used me to the fullest didn't expect that ...  \n",
       "11                                          VVvgvgvgv  \n",
       "12  Ye First year CE and IT wale kitne Chalu hain ...  \n",
       "13  I really Like Like Your Personality, Let's mee...  \n",
       "14                                           Fuck you  \n",
       "15                            its not ai&dc its ai&ds  \n",
       "16                            its not ai&dc its ai&ds  \n",
       "17                     I think vivek patel likes you   \n",
       "18                    I think kavita patel likes you   \n",
       "19  Whoever reads this, first of all have a good d...  "
      ]
     },
     "execution_count": 115,
     "metadata": {},
     "output_type": "execute_result"
    }
   ],
   "source": [
    "data"
   ]
  },
  {
   "cell_type": "code",
   "execution_count": null,
   "metadata": {},
   "outputs": [],
   "source": []
  },
  {
   "cell_type": "code",
   "execution_count": 116,
   "metadata": {},
   "outputs": [
    {
     "data": {
      "text/plain": [
       "['Name', 'dept', 'year', 'confession']"
      ]
     },
     "execution_count": 116,
     "metadata": {},
     "output_type": "execute_result"
    }
   ],
   "source": [
    "data.columns.tolist()"
   ]
  },
  {
   "cell_type": "code",
   "execution_count": 117,
   "metadata": {},
   "outputs": [],
   "source": [
    "personNum = 19\n",
    "namec = data[\"Name\"][personNum]\n",
    "deptc = data[\"dept\"][personNum]\n",
    "yearc = data[\"year\"][personNum]\n",
    "if(data[\"year\"][personNum]==9):\n",
    "    yearc = \"Not want to mention\"\n",
    "confessionc = data[\"confession\"][personNum]"
   ]
  },
  {
   "cell_type": "code",
   "execution_count": 118,
   "metadata": {},
   "outputs": [
    {
     "data": {
      "text/plain": [
       "'Anyone who creates this situation '"
      ]
     },
     "execution_count": 118,
     "metadata": {},
     "output_type": "execute_result"
    }
   ],
   "source": [
    "namec"
   ]
  },
  {
   "cell_type": "code",
   "execution_count": 119,
   "metadata": {},
   "outputs": [],
   "source": [
    "deptc = \"Not want to mention\""
   ]
  },
  {
   "cell_type": "code",
   "execution_count": 120,
   "metadata": {},
   "outputs": [
    {
     "data": {
      "text/plain": [
       "0"
      ]
     },
     "execution_count": 120,
     "metadata": {},
     "output_type": "execute_result"
    }
   ],
   "source": [
    "yearc"
   ]
  },
  {
   "cell_type": "code",
   "execution_count": 121,
   "metadata": {},
   "outputs": [],
   "source": [
    "str = \"\"\"        \n",
    "<div class=\\\"row\\\">\n",
    "\n",
    "    <div class=\\\"col s12 m6 l6\\\">\n",
    "\n",
    "        <div class=\\\"card blue\\\">\n",
    "\n",
    "            <div class=\\\"card-content white-text\\\">\n",
    "\n",
    "                <span class=\\\"card-title\\\">To: {} </span>\n",
    "                    <span>Department: {}</span><br>\n",
    "                        <span>Year: {}</span>\n",
    "                            <p>Confession:{}</p>\n",
    "            </div>\n",
    "        </div>\n",
    "    </div>\n",
    "\n",
    "\"\"\";"
   ]
  },
  {
   "cell_type": "code",
   "execution_count": 122,
   "metadata": {},
   "outputs": [],
   "source": [
    "str = str.format(namec,deptc,yearc,confessionc)"
   ]
  },
  {
   "cell_type": "code",
   "execution_count": 123,
   "metadata": {},
   "outputs": [
    {
     "data": {
      "text/plain": [
       "'        \\n<div class=\"row\">\\n\\n    <div class=\"col s12 m6 l6\">\\n\\n        <div class=\"card blue\">\\n\\n            <div class=\"card-content white-text\">\\n\\n                <span class=\"card-title\">To: Anyone who creates this situation  </span>\\n                    <span>Department: Not want to mention</span><br>\\n                        <span>Year: 0</span>\\n                            <p>Confession:Whoever reads this, first of all have a good day and stay motivated.\\r\\nSecondly whoever you text a dm or a message make it real don\\'t talk to someone for few days and leave like you never talked, it hurts, trust me it surely does, sounds more like a philosophy, but it\\'s true.</p>\\n            </div>\\n        </div>\\n    </div>\\n\\n'"
      ]
     },
     "execution_count": 123,
     "metadata": {},
     "output_type": "execute_result"
    }
   ],
   "source": [
    "str"
   ]
  },
  {
   "cell_type": "code",
   "execution_count": 124,
   "metadata": {},
   "outputs": [],
   "source": [
    "f = open(\"view.html\", mode=\"r\", encoding=\"utf-8\")\n",
    "contents = f.readlines()\n",
    "f.close()\n",
    "\n",
    "contents.insert(65, str)\n",
    "\n",
    "f = open(\"view.html\", mode=\"w\", encoding=\"utf-8\")\n",
    "contents = \"\".join(contents)\n",
    "f.write(contents)\n",
    "f.close()"
   ]
  },
  {
   "cell_type": "code",
   "execution_count": null,
   "metadata": {},
   "outputs": [],
   "source": []
  },
  {
   "cell_type": "code",
   "execution_count": null,
   "metadata": {},
   "outputs": [],
   "source": []
  },
  {
   "cell_type": "code",
   "execution_count": null,
   "metadata": {},
   "outputs": [],
   "source": []
  }
 ],
 "metadata": {
  "kernelspec": {
   "display_name": "Python 3",
   "language": "python",
   "name": "python3"
  },
  "language_info": {
   "codemirror_mode": {
    "name": "ipython",
    "version": 3
   },
   "file_extension": ".py",
   "mimetype": "text/x-python",
   "name": "python",
   "nbconvert_exporter": "python",
   "pygments_lexer": "ipython3",
   "version": "3.8.5"
  }
 },
 "nbformat": 4,
 "nbformat_minor": 4
}
