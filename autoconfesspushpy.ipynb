{
 "cells": [
  {
   "cell_type": "markdown",
   "metadata": {},
   "source": [
    "# Import Lib and import data"
   ]
  },
  {
   "cell_type": "code",
   "execution_count": 1,
   "metadata": {},
   "outputs": [],
   "source": [
    "import pandas as pd\n",
    "gurl = \"https://docs.google.com/spreadsheets/d/1QyRJTNd1eIOxjQXzOkhHnAfEvmZGTIix45fF24ylfck/gviz/tq?tqx=out:csv&sheet=confession\"\n",
    "data = pd.read_csv(gurl)"
   ]
  },
  {
   "cell_type": "code",
   "execution_count": 2,
   "metadata": {},
   "outputs": [
    {
     "data": {
      "text/html": [
       "<div>\n",
       "<style scoped>\n",
       "    .dataframe tbody tr th:only-of-type {\n",
       "        vertical-align: middle;\n",
       "    }\n",
       "\n",
       "    .dataframe tbody tr th {\n",
       "        vertical-align: top;\n",
       "    }\n",
       "\n",
       "    .dataframe thead th {\n",
       "        text-align: right;\n",
       "    }\n",
       "</style>\n",
       "<table border=\"1\" class=\"dataframe\">\n",
       "  <thead>\n",
       "    <tr style=\"text-align: right;\">\n",
       "      <th></th>\n",
       "      <th>Name</th>\n",
       "      <th>dept</th>\n",
       "      <th>year</th>\n",
       "      <th>confession</th>\n",
       "    </tr>\n",
       "  </thead>\n",
       "  <tbody>\n",
       "    <tr>\n",
       "      <th>0</th>\n",
       "      <td>Parth Desai</td>\n",
       "      <td>Other</td>\n",
       "      <td>1.0</td>\n",
       "      <td>Parth tera name mene DesiParth rakha he Desai ...</td>\n",
       "    </tr>\n",
       "    <tr>\n",
       "      <th>1</th>\n",
       "      <td>Hai</td>\n",
       "      <td>Computer</td>\n",
       "      <td>2.0</td>\n",
       "      <td>Jjdj</td>\n",
       "    </tr>\n",
       "    <tr>\n",
       "      <th>2</th>\n",
       "      <td>Jignesh</td>\n",
       "      <td>Others</td>\n",
       "      <td>1.0</td>\n",
       "      <td>Bhai jignesh, mere 750 rps wapis de de, kb tk ...</td>\n",
       "    </tr>\n",
       "    <tr>\n",
       "      <th>3</th>\n",
       "      <td>All</td>\n",
       "      <td>Others</td>\n",
       "      <td>0.0</td>\n",
       "      <td>Corona ma Social destansin nu palan karo m*m</td>\n",
       "    </tr>\n",
       "    <tr>\n",
       "      <th>4</th>\n",
       "      <td>ALL</td>\n",
       "      <td>FALSE</td>\n",
       "      <td>0.0</td>\n",
       "      <td>अगर दिल न मिले तो प्यार अधूरा होता है,\\r\\nचाँद...</td>\n",
       "    </tr>\n",
       "    <tr>\n",
       "      <th>...</th>\n",
       "      <td>...</td>\n",
       "      <td>...</td>\n",
       "      <td>...</td>\n",
       "      <td>...</td>\n",
       "    </tr>\n",
       "    <tr>\n",
       "      <th>97</th>\n",
       "      <td>Kristal navadia</td>\n",
       "      <td>Computer</td>\n",
       "      <td>1.0</td>\n",
       "      <td>I love you darling ♥️♥️♥️</td>\n",
       "    </tr>\n",
       "    <tr>\n",
       "      <th>98</th>\n",
       "      <td>Kristal navadia</td>\n",
       "      <td>Computer</td>\n",
       "      <td>1.0</td>\n",
       "      <td>I love you darling ♥️♥️♥️</td>\n",
       "    </tr>\n",
       "    <tr>\n",
       "      <th>99</th>\n",
       "      <td>Kristal navadia</td>\n",
       "      <td>Computer</td>\n",
       "      <td>1.0</td>\n",
       "      <td>I love you darling ♥️♥️♥️</td>\n",
       "    </tr>\n",
       "    <tr>\n",
       "      <th>100</th>\n",
       "      <td>Kristal navadia</td>\n",
       "      <td>Computer</td>\n",
       "      <td>1.0</td>\n",
       "      <td>I love you darling ♥️♥️♥️</td>\n",
       "    </tr>\n",
       "    <tr>\n",
       "      <th>101</th>\n",
       "      <td>Kristal navadia</td>\n",
       "      <td>Computer</td>\n",
       "      <td>1.0</td>\n",
       "      <td>I love you darling ♥️♥️♥️</td>\n",
       "    </tr>\n",
       "  </tbody>\n",
       "</table>\n",
       "<p>102 rows × 4 columns</p>\n",
       "</div>"
      ],
      "text/plain": [
       "                Name      dept  year  \\\n",
       "0        Parth Desai     Other   1.0   \n",
       "1                Hai  Computer   2.0   \n",
       "2            Jignesh    Others   1.0   \n",
       "3                All    Others   0.0   \n",
       "4                ALL     FALSE   0.0   \n",
       "..               ...       ...   ...   \n",
       "97   Kristal navadia  Computer   1.0   \n",
       "98   Kristal navadia  Computer   1.0   \n",
       "99   Kristal navadia  Computer   1.0   \n",
       "100  Kristal navadia  Computer   1.0   \n",
       "101  Kristal navadia  Computer   1.0   \n",
       "\n",
       "                                            confession  \n",
       "0    Parth tera name mene DesiParth rakha he Desai ...  \n",
       "1                                                 Jjdj  \n",
       "2    Bhai jignesh, mere 750 rps wapis de de, kb tk ...  \n",
       "3         Corona ma Social destansin nu palan karo m*m  \n",
       "4    अगर दिल न मिले तो प्यार अधूरा होता है,\\r\\nचाँद...  \n",
       "..                                                 ...  \n",
       "97                           I love you darling ♥️♥️♥️  \n",
       "98                           I love you darling ♥️♥️♥️  \n",
       "99                           I love you darling ♥️♥️♥️  \n",
       "100                          I love you darling ♥️♥️♥️  \n",
       "101                          I love you darling ♥️♥️♥️  \n",
       "\n",
       "[102 rows x 4 columns]"
      ]
     },
     "execution_count": 2,
     "metadata": {},
     "output_type": "execute_result"
    }
   ],
   "source": [
    "data"
   ]
  },
  {
   "cell_type": "markdown",
   "metadata": {},
   "source": [
    "# Let's remove duplicate value"
   ]
  },
  {
   "cell_type": "code",
   "execution_count": 3,
   "metadata": {},
   "outputs": [],
   "source": [
    "data.drop_duplicates(subset =\"confession\",\n",
    "                     keep = \"last\", inplace = True)"
   ]
  },
  {
   "cell_type": "markdown",
   "metadata": {},
   "source": [
    "# Data Wranglling"
   ]
  },
  {
   "cell_type": "code",
   "execution_count": 4,
   "metadata": {},
   "outputs": [],
   "source": [
    "data[\"year\"].fillna(\"9\", inplace = True)\n",
    "data['year'] = data['year'].astype(int)\n",
    "data['dept'] = data['dept'].replace(['FALSE'],['Not want to mention'])"
   ]
  },
  {
   "cell_type": "code",
   "execution_count": 5,
   "metadata": {
    "scrolled": false
   },
   "outputs": [
    {
     "data": {
      "text/html": [
       "<div>\n",
       "<style scoped>\n",
       "    .dataframe tbody tr th:only-of-type {\n",
       "        vertical-align: middle;\n",
       "    }\n",
       "\n",
       "    .dataframe tbody tr th {\n",
       "        vertical-align: top;\n",
       "    }\n",
       "\n",
       "    .dataframe thead th {\n",
       "        text-align: right;\n",
       "    }\n",
       "</style>\n",
       "<table border=\"1\" class=\"dataframe\">\n",
       "  <thead>\n",
       "    <tr style=\"text-align: right;\">\n",
       "      <th></th>\n",
       "      <th>Name</th>\n",
       "      <th>dept</th>\n",
       "      <th>year</th>\n",
       "      <th>confession</th>\n",
       "    </tr>\n",
       "  </thead>\n",
       "  <tbody>\n",
       "    <tr>\n",
       "      <th>86</th>\n",
       "      <td>zxc</td>\n",
       "      <td>Pharm.D</td>\n",
       "      <td>3</td>\n",
       "      <td>sadasaf</td>\n",
       "    </tr>\n",
       "    <tr>\n",
       "      <th>90</th>\n",
       "      <td>Saumydeep Bhosh</td>\n",
       "      <td>IT</td>\n",
       "      <td>2</td>\n",
       "      <td>Firstly stop thinking yourself a influencer!! ...</td>\n",
       "    </tr>\n",
       "    <tr>\n",
       "      <th>93</th>\n",
       "      <td>One Feku</td>\n",
       "      <td>IT</td>\n",
       "      <td>1</td>\n",
       "      <td>🚙🏍️🚗car,bullet,ghar badhu bija nu j che pan ba...</td>\n",
       "    </tr>\n",
       "    <tr>\n",
       "      <th>96</th>\n",
       "      <td>Batki</td>\n",
       "      <td>IT</td>\n",
       "      <td>1</td>\n",
       "      <td>ONLINE EXAM MA PURA MARKS AAVE TOY PAN CGPA 7 ...</td>\n",
       "    </tr>\n",
       "    <tr>\n",
       "      <th>101</th>\n",
       "      <td>Kristal navadia</td>\n",
       "      <td>Computer</td>\n",
       "      <td>1</td>\n",
       "      <td>I love you darling ♥️♥️♥️</td>\n",
       "    </tr>\n",
       "  </tbody>\n",
       "</table>\n",
       "</div>"
      ],
      "text/plain": [
       "                Name      dept  year  \\\n",
       "86               zxc   Pharm.D     3   \n",
       "90   Saumydeep Bhosh        IT     2   \n",
       "93          One Feku        IT     1   \n",
       "96             Batki        IT     1   \n",
       "101  Kristal navadia  Computer     1   \n",
       "\n",
       "                                            confession  \n",
       "86                                             sadasaf  \n",
       "90   Firstly stop thinking yourself a influencer!! ...  \n",
       "93   🚙🏍️🚗car,bullet,ghar badhu bija nu j che pan ba...  \n",
       "96   ONLINE EXAM MA PURA MARKS AAVE TOY PAN CGPA 7 ...  \n",
       "101                          I love you darling ♥️♥️♥️  "
      ]
     },
     "execution_count": 5,
     "metadata": {},
     "output_type": "execute_result"
    }
   ],
   "source": [
    "data.tail()"
   ]
  },
  {
   "cell_type": "code",
   "execution_count": 6,
   "metadata": {},
   "outputs": [
    {
     "data": {
      "text/html": [
       "<div>\n",
       "<style scoped>\n",
       "    .dataframe tbody tr th:only-of-type {\n",
       "        vertical-align: middle;\n",
       "    }\n",
       "\n",
       "    .dataframe tbody tr th {\n",
       "        vertical-align: top;\n",
       "    }\n",
       "\n",
       "    .dataframe thead th {\n",
       "        text-align: right;\n",
       "    }\n",
       "</style>\n",
       "<table border=\"1\" class=\"dataframe\">\n",
       "  <thead>\n",
       "    <tr style=\"text-align: right;\">\n",
       "      <th></th>\n",
       "      <th>Name</th>\n",
       "      <th>dept</th>\n",
       "      <th>year</th>\n",
       "      <th>confession</th>\n",
       "    </tr>\n",
       "  </thead>\n",
       "  <tbody>\n",
       "    <tr>\n",
       "      <th>0</th>\n",
       "      <td>Parth Desai</td>\n",
       "      <td>Other</td>\n",
       "      <td>1</td>\n",
       "      <td>Parth tera name mene DesiParth rakha he Desai ...</td>\n",
       "    </tr>\n",
       "    <tr>\n",
       "      <th>1</th>\n",
       "      <td>Hai</td>\n",
       "      <td>Computer</td>\n",
       "      <td>2</td>\n",
       "      <td>Jjdj</td>\n",
       "    </tr>\n",
       "    <tr>\n",
       "      <th>2</th>\n",
       "      <td>Jignesh</td>\n",
       "      <td>Others</td>\n",
       "      <td>1</td>\n",
       "      <td>Bhai jignesh, mere 750 rps wapis de de, kb tk ...</td>\n",
       "    </tr>\n",
       "    <tr>\n",
       "      <th>3</th>\n",
       "      <td>All</td>\n",
       "      <td>Others</td>\n",
       "      <td>0</td>\n",
       "      <td>Corona ma Social destansin nu palan karo m*m</td>\n",
       "    </tr>\n",
       "    <tr>\n",
       "      <th>4</th>\n",
       "      <td>ALL</td>\n",
       "      <td>Not want to mention</td>\n",
       "      <td>0</td>\n",
       "      <td>अगर दिल न मिले तो प्यार अधूरा होता है,\\r\\nचाँद...</td>\n",
       "    </tr>\n",
       "    <tr>\n",
       "      <th>...</th>\n",
       "      <td>...</td>\n",
       "      <td>...</td>\n",
       "      <td>...</td>\n",
       "      <td>...</td>\n",
       "    </tr>\n",
       "    <tr>\n",
       "      <th>86</th>\n",
       "      <td>zxc</td>\n",
       "      <td>Pharm.D</td>\n",
       "      <td>3</td>\n",
       "      <td>sadasaf</td>\n",
       "    </tr>\n",
       "    <tr>\n",
       "      <th>90</th>\n",
       "      <td>Saumydeep Bhosh</td>\n",
       "      <td>IT</td>\n",
       "      <td>2</td>\n",
       "      <td>Firstly stop thinking yourself a influencer!! ...</td>\n",
       "    </tr>\n",
       "    <tr>\n",
       "      <th>93</th>\n",
       "      <td>One Feku</td>\n",
       "      <td>IT</td>\n",
       "      <td>1</td>\n",
       "      <td>🚙🏍️🚗car,bullet,ghar badhu bija nu j che pan ba...</td>\n",
       "    </tr>\n",
       "    <tr>\n",
       "      <th>96</th>\n",
       "      <td>Batki</td>\n",
       "      <td>IT</td>\n",
       "      <td>1</td>\n",
       "      <td>ONLINE EXAM MA PURA MARKS AAVE TOY PAN CGPA 7 ...</td>\n",
       "    </tr>\n",
       "    <tr>\n",
       "      <th>101</th>\n",
       "      <td>Kristal navadia</td>\n",
       "      <td>Computer</td>\n",
       "      <td>1</td>\n",
       "      <td>I love you darling ♥️♥️♥️</td>\n",
       "    </tr>\n",
       "  </tbody>\n",
       "</table>\n",
       "<p>66 rows × 4 columns</p>\n",
       "</div>"
      ],
      "text/plain": [
       "                Name                 dept  year  \\\n",
       "0        Parth Desai                Other     1   \n",
       "1                Hai             Computer     2   \n",
       "2            Jignesh               Others     1   \n",
       "3                All               Others     0   \n",
       "4                ALL  Not want to mention     0   \n",
       "..               ...                  ...   ...   \n",
       "86               zxc              Pharm.D     3   \n",
       "90   Saumydeep Bhosh                   IT     2   \n",
       "93          One Feku                   IT     1   \n",
       "96             Batki                   IT     1   \n",
       "101  Kristal navadia             Computer     1   \n",
       "\n",
       "                                            confession  \n",
       "0    Parth tera name mene DesiParth rakha he Desai ...  \n",
       "1                                                 Jjdj  \n",
       "2    Bhai jignesh, mere 750 rps wapis de de, kb tk ...  \n",
       "3         Corona ma Social destansin nu palan karo m*m  \n",
       "4    अगर दिल न मिले तो प्यार अधूरा होता है,\\r\\nचाँद...  \n",
       "..                                                 ...  \n",
       "86                                             sadasaf  \n",
       "90   Firstly stop thinking yourself a influencer!! ...  \n",
       "93   🚙🏍️🚗car,bullet,ghar badhu bija nu j che pan ba...  \n",
       "96   ONLINE EXAM MA PURA MARKS AAVE TOY PAN CGPA 7 ...  \n",
       "101                          I love you darling ♥️♥️♥️  \n",
       "\n",
       "[66 rows x 4 columns]"
      ]
     },
     "execution_count": 6,
     "metadata": {},
     "output_type": "execute_result"
    }
   ],
   "source": [
    "data"
   ]
  },
  {
   "cell_type": "code",
   "execution_count": 25,
   "metadata": {},
   "outputs": [
    {
     "data": {
      "text/html": [
       "<div>\n",
       "<style scoped>\n",
       "    .dataframe tbody tr th:only-of-type {\n",
       "        vertical-align: middle;\n",
       "    }\n",
       "\n",
       "    .dataframe tbody tr th {\n",
       "        vertical-align: top;\n",
       "    }\n",
       "\n",
       "    .dataframe thead th {\n",
       "        text-align: right;\n",
       "    }\n",
       "</style>\n",
       "<table border=\"1\" class=\"dataframe\">\n",
       "  <thead>\n",
       "    <tr style=\"text-align: right;\">\n",
       "      <th></th>\n",
       "      <th>Name</th>\n",
       "      <th>dept</th>\n",
       "      <th>year</th>\n",
       "      <th>confession</th>\n",
       "    </tr>\n",
       "  </thead>\n",
       "  <tbody>\n",
       "    <tr>\n",
       "      <th>79</th>\n",
       "      <td>Ayush parmar</td>\n",
       "      <td>IT</td>\n",
       "      <td>1</td>\n",
       "      <td>karta sabkuchh he par dikha ta kuchh nahi 😒(ba...</td>\n",
       "    </tr>\n",
       "    <tr>\n",
       "      <th>80</th>\n",
       "      <td>Whole IT class😘😘😘😘</td>\n",
       "      <td>IT</td>\n",
       "      <td>2</td>\n",
       "      <td>Miss You all.......MC BC KBC Koi var to call k...</td>\n",
       "    </tr>\n",
       "    <tr>\n",
       "      <th>81</th>\n",
       "      <td>Mihir borad</td>\n",
       "      <td>IT</td>\n",
       "      <td>1</td>\n",
       "      <td>Mane mari post delete karvano bov shokh che 😳😳...</td>\n",
       "    </tr>\n",
       "    <tr>\n",
       "      <th>82</th>\n",
       "      <td>All story worriers</td>\n",
       "      <td>IT</td>\n",
       "      <td>1</td>\n",
       "      <td>It's story war. If anyone is men like original...</td>\n",
       "    </tr>\n",
       "    <tr>\n",
       "      <th>84</th>\n",
       "      <td>My fire Brigade</td>\n",
       "      <td>Others</td>\n",
       "      <td>1</td>\n",
       "      <td>Aaj Exam Khatam Hua.... Thanks Bhai ham jeso k...</td>\n",
       "    </tr>\n",
       "    <tr>\n",
       "      <th>86</th>\n",
       "      <td>zxc</td>\n",
       "      <td>Pharm.D</td>\n",
       "      <td>3</td>\n",
       "      <td>sadasaf</td>\n",
       "    </tr>\n",
       "    <tr>\n",
       "      <th>90</th>\n",
       "      <td>Saumydeep Bhosh</td>\n",
       "      <td>IT</td>\n",
       "      <td>2</td>\n",
       "      <td>Firstly stop thinking yourself a influencer!! ...</td>\n",
       "    </tr>\n",
       "    <tr>\n",
       "      <th>93</th>\n",
       "      <td>One Feku</td>\n",
       "      <td>IT</td>\n",
       "      <td>1</td>\n",
       "      <td>🚙🏍️🚗car,bullet,ghar badhu bija nu j che pan ba...</td>\n",
       "    </tr>\n",
       "    <tr>\n",
       "      <th>96</th>\n",
       "      <td>Batki</td>\n",
       "      <td>IT</td>\n",
       "      <td>1</td>\n",
       "      <td>ONLINE EXAM MA PURA MARKS AAVE TOY PAN CGPA 7 ...</td>\n",
       "    </tr>\n",
       "    <tr>\n",
       "      <th>101</th>\n",
       "      <td>Kristal navadia</td>\n",
       "      <td>Computer</td>\n",
       "      <td>1</td>\n",
       "      <td>I love you darling ♥️♥️♥️</td>\n",
       "    </tr>\n",
       "  </tbody>\n",
       "</table>\n",
       "</div>"
      ],
      "text/plain": [
       "                   Name      dept  year  \\\n",
       "79        Ayush parmar         IT     1   \n",
       "80   Whole IT class😘😘😘😘        IT     2   \n",
       "81          Mihir borad        IT     1   \n",
       "82   All story worriers        IT     1   \n",
       "84      My fire Brigade    Others     1   \n",
       "86                  zxc   Pharm.D     3   \n",
       "90      Saumydeep Bhosh        IT     2   \n",
       "93             One Feku        IT     1   \n",
       "96                Batki        IT     1   \n",
       "101     Kristal navadia  Computer     1   \n",
       "\n",
       "                                            confession  \n",
       "79   karta sabkuchh he par dikha ta kuchh nahi 😒(ba...  \n",
       "80   Miss You all.......MC BC KBC Koi var to call k...  \n",
       "81   Mane mari post delete karvano bov shokh che 😳😳...  \n",
       "82   It's story war. If anyone is men like original...  \n",
       "84   Aaj Exam Khatam Hua.... Thanks Bhai ham jeso k...  \n",
       "86                                             sadasaf  \n",
       "90   Firstly stop thinking yourself a influencer!! ...  \n",
       "93   🚙🏍️🚗car,bullet,ghar badhu bija nu j che pan ba...  \n",
       "96   ONLINE EXAM MA PURA MARKS AAVE TOY PAN CGPA 7 ...  \n",
       "101                          I love you darling ♥️♥️♥️  "
      ]
     },
     "execution_count": 25,
     "metadata": {},
     "output_type": "execute_result"
    }
   ],
   "source": [
    "data.tail(10)"
   ]
  },
  {
   "cell_type": "code",
   "execution_count": 24,
   "metadata": {},
   "outputs": [
    {
     "data": {
      "text/html": [
       "<div>\n",
       "<style scoped>\n",
       "    .dataframe tbody tr th:only-of-type {\n",
       "        vertical-align: middle;\n",
       "    }\n",
       "\n",
       "    .dataframe tbody tr th {\n",
       "        vertical-align: top;\n",
       "    }\n",
       "\n",
       "    .dataframe thead th {\n",
       "        text-align: right;\n",
       "    }\n",
       "</style>\n",
       "<table border=\"1\" class=\"dataframe\">\n",
       "  <thead>\n",
       "    <tr style=\"text-align: right;\">\n",
       "      <th></th>\n",
       "      <th>Name</th>\n",
       "      <th>dept</th>\n",
       "      <th>year</th>\n",
       "      <th>confession</th>\n",
       "    </tr>\n",
       "  </thead>\n",
       "  <tbody>\n",
       "    <tr>\n",
       "      <th>90</th>\n",
       "      <td>Saumydeep Bhosh</td>\n",
       "      <td>IT</td>\n",
       "      <td>2</td>\n",
       "      <td>Firstly stop thinking yourself a influencer!! ...</td>\n",
       "    </tr>\n",
       "  </tbody>\n",
       "</table>\n",
       "</div>"
      ],
      "text/plain": [
       "               Name dept  year  \\\n",
       "90  Saumydeep Bhosh   IT     2   \n",
       "\n",
       "                                           confession  \n",
       "90  Firstly stop thinking yourself a influencer!! ...  "
      ]
     },
     "execution_count": 24,
     "metadata": {},
     "output_type": "execute_result"
    }
   ],
   "source": [
    "data.loc[[90]]"
   ]
  },
  {
   "cell_type": "code",
   "execution_count": 35,
   "metadata": {},
   "outputs": [
    {
     "data": {
      "text/html": [
       "<div>\n",
       "<style scoped>\n",
       "    .dataframe tbody tr th:only-of-type {\n",
       "        vertical-align: middle;\n",
       "    }\n",
       "\n",
       "    .dataframe tbody tr th {\n",
       "        vertical-align: top;\n",
       "    }\n",
       "\n",
       "    .dataframe thead th {\n",
       "        text-align: right;\n",
       "    }\n",
       "</style>\n",
       "<table border=\"1\" class=\"dataframe\">\n",
       "  <thead>\n",
       "    <tr style=\"text-align: right;\">\n",
       "      <th></th>\n",
       "      <th>Name</th>\n",
       "      <th>dept</th>\n",
       "      <th>year</th>\n",
       "      <th>confession</th>\n",
       "    </tr>\n",
       "  </thead>\n",
       "  <tbody>\n",
       "    <tr>\n",
       "      <th>0</th>\n",
       "      <td>Parth Desai</td>\n",
       "      <td>Other</td>\n",
       "      <td>1</td>\n",
       "      <td>Parth tera name mene DesiParth rakha he Desai ...</td>\n",
       "    </tr>\n",
       "    <tr>\n",
       "      <th>1</th>\n",
       "      <td>Hai</td>\n",
       "      <td>Computer</td>\n",
       "      <td>2</td>\n",
       "      <td>Jjdj</td>\n",
       "    </tr>\n",
       "    <tr>\n",
       "      <th>2</th>\n",
       "      <td>Jignesh</td>\n",
       "      <td>Others</td>\n",
       "      <td>1</td>\n",
       "      <td>Bhai jignesh, mere 750 rps wapis de de, kb tk ...</td>\n",
       "    </tr>\n",
       "    <tr>\n",
       "      <th>3</th>\n",
       "      <td>All</td>\n",
       "      <td>Others</td>\n",
       "      <td>0</td>\n",
       "      <td>Corona ma Social destansin nu palan karo m*m</td>\n",
       "    </tr>\n",
       "    <tr>\n",
       "      <th>4</th>\n",
       "      <td>ALL</td>\n",
       "      <td>Not want to mention</td>\n",
       "      <td>0</td>\n",
       "      <td>अगर दिल न मिले तो प्यार अधूरा होता है,\\r\\nचाँद...</td>\n",
       "    </tr>\n",
       "    <tr>\n",
       "      <th>...</th>\n",
       "      <td>...</td>\n",
       "      <td>...</td>\n",
       "      <td>...</td>\n",
       "      <td>...</td>\n",
       "    </tr>\n",
       "    <tr>\n",
       "      <th>86</th>\n",
       "      <td>zxc</td>\n",
       "      <td>Pharm.D</td>\n",
       "      <td>3</td>\n",
       "      <td>sadasaf</td>\n",
       "    </tr>\n",
       "    <tr>\n",
       "      <th>90</th>\n",
       "      <td>Saumydeep Bhosh</td>\n",
       "      <td>IT</td>\n",
       "      <td>2</td>\n",
       "      <td>Firstly stop thinking yourself a influencer!! ...</td>\n",
       "    </tr>\n",
       "    <tr>\n",
       "      <th>93</th>\n",
       "      <td>One Feku</td>\n",
       "      <td>IT</td>\n",
       "      <td>1</td>\n",
       "      <td>🚙🏍️🚗car,bullet,ghar badhu bija nu j che pan ba...</td>\n",
       "    </tr>\n",
       "    <tr>\n",
       "      <th>96</th>\n",
       "      <td>Batki</td>\n",
       "      <td>IT</td>\n",
       "      <td>1</td>\n",
       "      <td>ONLINE EXAM MA PURA MARKS AAVE TOY PAN CGPA 7 ...</td>\n",
       "    </tr>\n",
       "    <tr>\n",
       "      <th>101</th>\n",
       "      <td>Kristal navadia</td>\n",
       "      <td>Computer</td>\n",
       "      <td>1</td>\n",
       "      <td>I love you darling ♥️♥️♥️</td>\n",
       "    </tr>\n",
       "  </tbody>\n",
       "</table>\n",
       "<p>66 rows × 4 columns</p>\n",
       "</div>"
      ],
      "text/plain": [
       "                Name                 dept  year  \\\n",
       "0        Parth Desai                Other     1   \n",
       "1                Hai             Computer     2   \n",
       "2            Jignesh               Others     1   \n",
       "3                All               Others     0   \n",
       "4                ALL  Not want to mention     0   \n",
       "..               ...                  ...   ...   \n",
       "86               zxc              Pharm.D     3   \n",
       "90   Saumydeep Bhosh                   IT     2   \n",
       "93          One Feku                   IT     1   \n",
       "96             Batki                   IT     1   \n",
       "101  Kristal navadia             Computer     1   \n",
       "\n",
       "                                            confession  \n",
       "0    Parth tera name mene DesiParth rakha he Desai ...  \n",
       "1                                                 Jjdj  \n",
       "2    Bhai jignesh, mere 750 rps wapis de de, kb tk ...  \n",
       "3         Corona ma Social destansin nu palan karo m*m  \n",
       "4    अगर दिल न मिले तो प्यार अधूरा होता है,\\r\\nचाँद...  \n",
       "..                                                 ...  \n",
       "86                                             sadasaf  \n",
       "90   Firstly stop thinking yourself a influencer!! ...  \n",
       "93   🚙🏍️🚗car,bullet,ghar badhu bija nu j che pan ba...  \n",
       "96   ONLINE EXAM MA PURA MARKS AAVE TOY PAN CGPA 7 ...  \n",
       "101                          I love you darling ♥️♥️♥️  \n",
       "\n",
       "[66 rows x 4 columns]"
      ]
     },
     "execution_count": 35,
     "metadata": {},
     "output_type": "execute_result"
    }
   ],
   "source": [
    "data"
   ]
  },
  {
   "cell_type": "code",
   "execution_count": 36,
   "metadata": {},
   "outputs": [
    {
     "name": "stdout",
     "output_type": "stream",
     "text": [
      "Enter a number96\n"
     ]
    }
   ],
   "source": [
    "personNum = int(input(\"Enter a number\"))\n",
    "namec = data[\"Name\"][personNum]\n",
    "deptc = data[\"dept\"][personNum]\n",
    "yearc = data[\"year\"][personNum]\n",
    "if(data[\"year\"][personNum]==9):\n",
    "    yearc = \"Not want to mention\"\n",
    "confessionc = data[\"confession\"][personNum]"
   ]
  },
  {
   "cell_type": "code",
   "execution_count": 37,
   "metadata": {},
   "outputs": [
    {
     "data": {
      "text/plain": [
       "'Batki'"
      ]
     },
     "execution_count": 37,
     "metadata": {},
     "output_type": "execute_result"
    }
   ],
   "source": [
    "namec"
   ]
  },
  {
   "cell_type": "code",
   "execution_count": 38,
   "metadata": {},
   "outputs": [
    {
     "data": {
      "text/plain": [
       "'IT'"
      ]
     },
     "execution_count": 38,
     "metadata": {},
     "output_type": "execute_result"
    }
   ],
   "source": [
    "deptc "
   ]
  },
  {
   "cell_type": "code",
   "execution_count": 39,
   "metadata": {},
   "outputs": [
    {
     "data": {
      "text/plain": [
       "1"
      ]
     },
     "execution_count": 39,
     "metadata": {},
     "output_type": "execute_result"
    }
   ],
   "source": [
    "yearc"
   ]
  },
  {
   "cell_type": "code",
   "execution_count": 40,
   "metadata": {},
   "outputs": [
    {
     "data": {
      "text/plain": [
       "'ONLINE EXAM MA PURA MARKS AAVE TOY PAN CGPA 7 AAVE HOW😱😱😱?\\r\\nKYA HE ES LADKI KA CHAKKAR?\\r\\n🤔🧐\\r\\n'"
      ]
     },
     "execution_count": 40,
     "metadata": {},
     "output_type": "execute_result"
    }
   ],
   "source": [
    "confessionc"
   ]
  },
  {
   "cell_type": "code",
   "execution_count": 41,
   "metadata": {},
   "outputs": [],
   "source": [
    "str = \"\"\"        \n",
    "<div class=\\\"row\\\">\n",
    "\n",
    "    <div class=\\\"col s12 m6 l6\\\">\n",
    "\n",
    "        <div class=\\\"card blue\\\">\n",
    "\n",
    "            <div class=\\\"card-content white-text\\\">\n",
    "\n",
    "                <span class=\\\"card-title\\\">To: {} </span>\n",
    "                    <span>Department: {}</span><br>\n",
    "                        <span>Year: {}</span>\n",
    "                            <p>Confession:{}</p>\n",
    "            </div>\n",
    "        </div>\n",
    "    </div>\n",
    "\n",
    "\"\"\";"
   ]
  },
  {
   "cell_type": "code",
   "execution_count": 42,
   "metadata": {},
   "outputs": [],
   "source": [
    "str = str.format(namec,deptc,yearc,confessionc)"
   ]
  },
  {
   "cell_type": "code",
   "execution_count": 43,
   "metadata": {},
   "outputs": [
    {
     "data": {
      "text/plain": [
       "'        \\n<div class=\"row\">\\n\\n    <div class=\"col s12 m6 l6\">\\n\\n        <div class=\"card blue\">\\n\\n            <div class=\"card-content white-text\">\\n\\n                <span class=\"card-title\">To: Batki </span>\\n                    <span>Department: IT</span><br>\\n                        <span>Year: 1</span>\\n                            <p>Confession:ONLINE EXAM MA PURA MARKS AAVE TOY PAN CGPA 7 AAVE HOW😱😱😱?\\r\\nKYA HE ES LADKI KA CHAKKAR?\\r\\n🤔🧐\\r\\n</p>\\n            </div>\\n        </div>\\n    </div>\\n\\n'"
      ]
     },
     "execution_count": 43,
     "metadata": {},
     "output_type": "execute_result"
    }
   ],
   "source": [
    "str"
   ]
  },
  {
   "cell_type": "markdown",
   "metadata": {},
   "source": [
    "<h1>Don't run below cells blindly </h1>\n",
    "    <h2>Please <a href=\"view.html\">Click Here</a></h2>\n",
    "    <p>Notice here! CSS WIll Not work on local host</p>"
   ]
  },
  {
   "cell_type": "code",
   "execution_count": 44,
   "metadata": {},
   "outputs": [],
   "source": [
    "f = open(\"view.html\", mode=\"r\", encoding=\"utf-8\")\n",
    "contents = f.readlines()\n",
    "f.close()\n",
    "#this code will append html code on line no 65\n",
    "contents.insert(65, str)\n",
    "\n",
    "f = open(\"view.html\", mode=\"w\", encoding=\"utf-8\")\n",
    "contents = \"\".join(contents)\n",
    "f.write(contents)\n",
    "f.close()"
   ]
  },
  {
   "cell_type": "code",
   "execution_count": null,
   "metadata": {},
   "outputs": [],
   "source": []
  },
  {
   "cell_type": "code",
   "execution_count": null,
   "metadata": {},
   "outputs": [],
   "source": []
  },
  {
   "cell_type": "code",
   "execution_count": null,
   "metadata": {},
   "outputs": [],
   "source": []
  },
  {
   "cell_type": "code",
   "execution_count": null,
   "metadata": {},
   "outputs": [],
   "source": []
  },
  {
   "cell_type": "code",
   "execution_count": null,
   "metadata": {},
   "outputs": [],
   "source": []
  },
  {
   "cell_type": "code",
   "execution_count": null,
   "metadata": {},
   "outputs": [],
   "source": []
  },
  {
   "cell_type": "code",
   "execution_count": null,
   "metadata": {},
   "outputs": [],
   "source": []
  },
  {
   "cell_type": "code",
   "execution_count": null,
   "metadata": {},
   "outputs": [],
   "source": []
  },
  {
   "cell_type": "code",
   "execution_count": null,
   "metadata": {},
   "outputs": [],
   "source": []
  },
  {
   "cell_type": "code",
   "execution_count": null,
   "metadata": {},
   "outputs": [],
   "source": []
  },
  {
   "cell_type": "code",
   "execution_count": null,
   "metadata": {},
   "outputs": [],
   "source": []
  },
  {
   "cell_type": "code",
   "execution_count": null,
   "metadata": {},
   "outputs": [],
   "source": []
  },
  {
   "cell_type": "code",
   "execution_count": null,
   "metadata": {},
   "outputs": [],
   "source": []
  }
 ],
 "metadata": {
  "kernelspec": {
   "display_name": "Python 3",
   "language": "python",
   "name": "python3"
  },
  "language_info": {
   "codemirror_mode": {
    "name": "ipython",
    "version": 3
   },
   "file_extension": ".py",
   "mimetype": "text/x-python",
   "name": "python",
   "nbconvert_exporter": "python",
   "pygments_lexer": "ipython3",
   "version": "3.8.5"
  }
 },
 "nbformat": 4,
 "nbformat_minor": 4
}
