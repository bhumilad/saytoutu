{
 "cells": [
  {
   "cell_type": "code",
   "execution_count": 47,
   "metadata": {},
   "outputs": [],
   "source": [
    "import pandas as pd"
   ]
  },
  {
   "cell_type": "code",
   "execution_count": 48,
   "metadata": {},
   "outputs": [],
   "source": [
    "gurl = \"https://docs.google.com/spreadsheets/d/1QyRJTNd1eIOxjQXzOkhHnAfEvmZGTIix45fF24ylfck/gviz/tq?tqx=out:csv&sheet=confession\"\n",
    "X = pd.read_csv(gurl)"
   ]
  },
  {
   "cell_type": "code",
   "execution_count": 73,
   "metadata": {
    "scrolled": true
   },
   "outputs": [
    {
     "name": "stdout",
     "output_type": "stream",
     "text": [
      "                  Name   dept  year           confession\n",
      "0  Are madarchod sooja     IT     2  Oydydydyodyor6or6oe\n",
      "1              G5g5g4g     EC     1           Yvtg5g4g4g\n",
      "2                 Yyyy    MBA     4      Cgcilvivig7ff7t\n",
      "3              cxxcxcc  Civil     3      ssxsxsxsxsxsxsx\n",
      "4                Vivek    MCA     1                  Uuu\n",
      "       Name   dept  year       confession\n",
      "2      Yyyy    MBA     4  Cgcilvivig7ff7t\n",
      "3   cxxcxcc  Civil     3  ssxsxsxsxsxsxsx\n",
      "4     Vivek    MCA     1              Uuu\n",
      "5     Vivek    MCA     1              Uuu\n",
      "6     Vivek    MCA     1              Uuu\n"
     ]
    }
   ],
   "source": [
    "print(X.head())\n",
    "print(X.tail())"
   ]
  },
  {
   "cell_type": "code",
   "execution_count": 50,
   "metadata": {},
   "outputs": [
    {
     "name": "stdout",
     "output_type": "stream",
     "text": [
      "enter number2\n",
      "Yyyy\n",
      "MBA\n",
      "4\n",
      "Cgcilvivig7ff7t\n"
     ]
    }
   ],
   "source": [
    "personNum=int(input(\"enter number\"))\n",
    "print(X[\"Name\"][personNum])\n",
    "print(X[\"dept\"][personNum])\n",
    "print(X[\"year\"][personNum])\n",
    "print(X[\"confession\"][personNum])"
   ]
  },
  {
   "cell_type": "code",
   "execution_count": 51,
   "metadata": {},
   "outputs": [],
   "source": [
    "namec = X[\"Name\"][personNum]\n",
    "deptc = X[\"dept\"][personNum]\n",
    "yearc = X[\"year\"][personNum]\n",
    "confessionc = X[\"confession\"][personNum]"
   ]
  },
  {
   "cell_type": "code",
   "execution_count": 57,
   "metadata": {},
   "outputs": [
    {
     "data": {
      "text/plain": [
       "'Yyyy'"
      ]
     },
     "execution_count": 57,
     "metadata": {},
     "output_type": "execute_result"
    }
   ],
   "source": [
    "namec"
   ]
  },
  {
   "cell_type": "code",
   "execution_count": 67,
   "metadata": {},
   "outputs": [
    {
     "data": {
      "text/plain": [
       "'MBA'"
      ]
     },
     "execution_count": 67,
     "metadata": {},
     "output_type": "execute_result"
    }
   ],
   "source": [
    "deptc"
   ]
  },
  {
   "cell_type": "code",
   "execution_count": 68,
   "metadata": {},
   "outputs": [],
   "source": [
    "str = \"        <div class=\\\"row\\\"><div class=\\\"col s12 m6 l6\\\"><div class=\\\"card blue\\\"><div class=\\\"card-content white-text\\\"><span class=\\\"card-title\\\">To: {} </span><span>Department: {}</span><br><span>Year: {}</span><p>Confession:{}</p></div></div></div>        \";"
   ]
  },
  {
   "cell_type": "code",
   "execution_count": 69,
   "metadata": {},
   "outputs": [],
   "source": [
    "str = str.format(\"land\",\"land2\",\"4\",\"land5\")"
   ]
  },
  {
   "cell_type": "code",
   "execution_count": 70,
   "metadata": {},
   "outputs": [
    {
     "data": {
      "text/plain": [
       "'        <div class=\"row\"><div class=\"col s12 m6 l6\"><div class=\"card blue\"><div class=\"card-content white-text\"><span class=\"card-title\">To: land </span><span>Department: land2</span><br><span>Year: 4</span><p>Confession:land5</p></div></div></div>        '"
      ]
     },
     "execution_count": 70,
     "metadata": {},
     "output_type": "execute_result"
    }
   ],
   "source": [
    "str"
   ]
  },
  {
   "cell_type": "code",
   "execution_count": 71,
   "metadata": {},
   "outputs": [],
   "source": [
    "f = open(\"view.html\", mode=\"r\", encoding=\"utf-8\")\n",
    "contents = f.readlines()\n",
    "f.close()\n",
    "\n",
    "contents.insert(90, str)\n",
    "\n",
    "f = open(\"view.html\", mode=\"w\", encoding=\"utf-8\")\n",
    "contents = \"\".join(contents)\n",
    "f.write(contents)\n",
    "f.close()"
   ]
  },
  {
   "cell_type": "code",
   "execution_count": null,
   "metadata": {},
   "outputs": [],
   "source": []
  }
 ],
 "metadata": {
  "kernelspec": {
   "display_name": "Python 3",
   "language": "python",
   "name": "python3"
  },
  "language_info": {
   "codemirror_mode": {
    "name": "ipython",
    "version": 3
   },
   "file_extension": ".py",
   "mimetype": "text/x-python",
   "name": "python",
   "nbconvert_exporter": "python",
   "pygments_lexer": "ipython3",
   "version": "3.8.5"
  }
 },
 "nbformat": 4,
 "nbformat_minor": 4
}
