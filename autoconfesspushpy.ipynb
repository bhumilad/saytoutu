{
 "cells": [
  {
   "cell_type": "code",
   "execution_count": 1,
   "metadata": {},
   "outputs": [],
   "source": [
    "import pandas as pd\n",
    "gurl = \"https://docs.google.com/spreadsheets/d/1QyRJTNd1eIOxjQXzOkhHnAfEvmZGTIix45fF24ylfck/gviz/tq?tqx=out:csv&sheet=confession\"\n",
    "data = pd.read_csv(gurl)"
   ]
  },
  {
   "cell_type": "code",
   "execution_count": 2,
   "metadata": {
    "scrolled": false
   },
   "outputs": [
    {
     "data": {
      "text/html": [
       "<div>\n",
       "<style scoped>\n",
       "    .dataframe tbody tr th:only-of-type {\n",
       "        vertical-align: middle;\n",
       "    }\n",
       "\n",
       "    .dataframe tbody tr th {\n",
       "        vertical-align: top;\n",
       "    }\n",
       "\n",
       "    .dataframe thead th {\n",
       "        text-align: right;\n",
       "    }\n",
       "</style>\n",
       "<table border=\"1\" class=\"dataframe\">\n",
       "  <thead>\n",
       "    <tr style=\"text-align: right;\">\n",
       "      <th></th>\n",
       "      <th>Name</th>\n",
       "      <th>dept</th>\n",
       "      <th>year</th>\n",
       "      <th>confession</th>\n",
       "    </tr>\n",
       "  </thead>\n",
       "  <tbody>\n",
       "    <tr>\n",
       "      <th>3</th>\n",
       "      <td>All</td>\n",
       "      <td>Others</td>\n",
       "      <td>0</td>\n",
       "      <td>Corona ma Social destansin nu palan karo m*m</td>\n",
       "    </tr>\n",
       "    <tr>\n",
       "      <th>4</th>\n",
       "      <td>ALL</td>\n",
       "      <td>FALSE</td>\n",
       "      <td>0</td>\n",
       "      <td>अगर दिल न मिले तो प्यार अधूरा होता है,\\r\\nचाँद...</td>\n",
       "    </tr>\n",
       "    <tr>\n",
       "      <th>5</th>\n",
       "      <td>Shivani</td>\n",
       "      <td>FALSE</td>\n",
       "      <td>0</td>\n",
       "      <td>I am really shy to say you directly, but I LOV...</td>\n",
       "    </tr>\n",
       "    <tr>\n",
       "      <th>6</th>\n",
       "      <td>To:- Rutvik Parmar</td>\n",
       "      <td>Pharm.D</td>\n",
       "      <td>2</td>\n",
       "      <td>Bhai kab tak akele akele cricket khelegaa hume...</td>\n",
       "    </tr>\n",
       "    <tr>\n",
       "      <th>7</th>\n",
       "      <td>Rutvik Parmar</td>\n",
       "      <td>Others</td>\n",
       "      <td>2</td>\n",
       "      <td>Bhai harroz akele akele cricket khelate ho kab...</td>\n",
       "    </tr>\n",
       "  </tbody>\n",
       "</table>\n",
       "</div>"
      ],
      "text/plain": [
       "                 Name     dept  year  \\\n",
       "3                 All   Others     0   \n",
       "4                 ALL    FALSE     0   \n",
       "5             Shivani    FALSE     0   \n",
       "6  To:- Rutvik Parmar  Pharm.D     2   \n",
       "7       Rutvik Parmar   Others     2   \n",
       "\n",
       "                                          confession  \n",
       "3       Corona ma Social destansin nu palan karo m*m  \n",
       "4  अगर दिल न मिले तो प्यार अधूरा होता है,\\r\\nचाँद...  \n",
       "5  I am really shy to say you directly, but I LOV...  \n",
       "6  Bhai kab tak akele akele cricket khelegaa hume...  \n",
       "7  Bhai harroz akele akele cricket khelate ho kab...  "
      ]
     },
     "execution_count": 2,
     "metadata": {},
     "output_type": "execute_result"
    }
   ],
   "source": [
    "data.tail()"
   ]
  },
  {
   "cell_type": "code",
   "execution_count": 3,
   "metadata": {},
   "outputs": [
    {
     "data": {
      "text/plain": [
       "['Name', 'dept', 'year', 'confession']"
      ]
     },
     "execution_count": 3,
     "metadata": {},
     "output_type": "execute_result"
    }
   ],
   "source": [
    "data.columns.tolist()"
   ]
  },
  {
   "cell_type": "code",
   "execution_count": 12,
   "metadata": {},
   "outputs": [],
   "source": [
    "personNum = 5\n",
    "namec = data[\"Name\"][personNum]\n",
    "deptc = data[\"dept\"][personNum]\n",
    "yearc = int(data[\"year\"][personNum])\n",
    "confessionc = data[\"confession\"][personNum]"
   ]
  },
  {
   "cell_type": "code",
   "execution_count": 13,
   "metadata": {},
   "outputs": [
    {
     "data": {
      "text/plain": [
       "'Shivani'"
      ]
     },
     "execution_count": 13,
     "metadata": {},
     "output_type": "execute_result"
    }
   ],
   "source": [
    "namec"
   ]
  },
  {
   "cell_type": "code",
   "execution_count": 14,
   "metadata": {},
   "outputs": [
    {
     "data": {
      "text/plain": [
       "'FALSE'"
      ]
     },
     "execution_count": 14,
     "metadata": {},
     "output_type": "execute_result"
    }
   ],
   "source": [
    "deptc "
   ]
  },
  {
   "cell_type": "code",
   "execution_count": 15,
   "metadata": {},
   "outputs": [],
   "source": [
    "str = \"\"\"        \n",
    "<div class=\\\"row\\\">\n",
    "\n",
    "    <div class=\\\"col s12 m6 l6\\\">\n",
    "\n",
    "        <div class=\\\"card blue\\\">\n",
    "\n",
    "            <div class=\\\"card-content white-text\\\">\n",
    "\n",
    "                <span class=\\\"card-title\\\">To: {} </span>\n",
    "                    <span>Department: {}</span><br>\n",
    "                        <span>Year: {}</span>\n",
    "                            <p>Confession:{}</p>\n",
    "            </div>\n",
    "        </div>\n",
    "    </div>\n",
    "\n",
    "\"\"\";"
   ]
  },
  {
   "cell_type": "code",
   "execution_count": 16,
   "metadata": {},
   "outputs": [],
   "source": [
    "str = str.format(namec,deptc,yearc,confessionc)"
   ]
  },
  {
   "cell_type": "code",
   "execution_count": 17,
   "metadata": {},
   "outputs": [
    {
     "data": {
      "text/plain": [
       "'        \\n<div class=\"row\">\\n\\n    <div class=\"col s12 m6 l6\">\\n\\n        <div class=\"card blue\">\\n\\n            <div class=\"card-content white-text\">\\n\\n                <span class=\"card-title\">To: Shivani </span>\\n                    <span>Department: FALSE</span><br>\\n                        <span>Year: 0</span>\\n                            <p>Confession:I am really shy to say you directly, but I LOVE YOU Shivani..</p>\\n            </div>\\n        </div>\\n    </div>\\n\\n'"
      ]
     },
     "execution_count": 17,
     "metadata": {},
     "output_type": "execute_result"
    }
   ],
   "source": [
    "str"
   ]
  },
  {
   "cell_type": "code",
   "execution_count": 9,
   "metadata": {},
   "outputs": [],
   "source": [
    "f = open(\"view.html\", mode=\"r\", encoding=\"utf-8\")\n",
    "contents = f.readlines()\n",
    "f.close()\n",
    "\n",
    "contents.insert(65, str)\n",
    "\n",
    "f = open(\"view.html\", mode=\"w\", encoding=\"utf-8\")\n",
    "contents = \"\".join(contents)\n",
    "f.write(contents)\n",
    "f.close()"
   ]
  },
  {
   "cell_type": "code",
   "execution_count": null,
   "metadata": {},
   "outputs": [],
   "source": []
  },
  {
   "cell_type": "code",
   "execution_count": null,
   "metadata": {},
   "outputs": [],
   "source": []
  },
  {
   "cell_type": "code",
   "execution_count": null,
   "metadata": {},
   "outputs": [],
   "source": []
  }
 ],
 "metadata": {
  "kernelspec": {
   "display_name": "Python 3",
   "language": "python",
   "name": "python3"
  },
  "language_info": {
   "codemirror_mode": {
    "name": "ipython",
    "version": 3
   },
   "file_extension": ".py",
   "mimetype": "text/x-python",
   "name": "python",
   "nbconvert_exporter": "python",
   "pygments_lexer": "ipython3",
   "version": "3.8.5"
  }
 },
 "nbformat": 4,
 "nbformat_minor": 4
}
