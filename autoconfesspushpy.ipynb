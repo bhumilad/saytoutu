{
 "cells": [
  {
   "cell_type": "code",
   "execution_count": 1,
   "metadata": {},
   "outputs": [],
   "source": [
    "import pandas as pd"
   ]
  },
  {
   "cell_type": "code",
   "execution_count": 2,
   "metadata": {},
   "outputs": [],
   "source": [
    "gurl = \"https://docs.google.com/spreadsheets/d/1QyRJTNd1eIOxjQXzOkhHnAfEvmZGTIix45fF24ylfck/gviz/tq?tqx=out:csv&sheet=confession\"\n",
    "X = pd.read_csv(gurl)"
   ]
  },
  {
   "cell_type": "code",
   "execution_count": 32,
   "metadata": {
    "scrolled": false
   },
   "outputs": [
    {
     "name": "stdout",
     "output_type": "stream",
     "text": [
      "                  Name   dept  year           confession\n",
      "0  Are madarchod sooja     IT   2.0  Oydydydyodyor6or6oe\n",
      "1              G5g5g4g     EC   1.0           Yvtg5g4g4g\n",
      "2                 Yyyy    MBA   4.0      Cgcilvivig7ff7t\n",
      "3              cxxcxcc  Civil   3.0      ssxsxsxsxsxsxsx\n",
      "4                Vivek    MCA   1.0                  Uuu\n",
      "                Name        dept  year  \\\n",
      "18             Harsh       Civil   1.0   \n",
      "19               555          IT   2.0   \n",
      "20      Vivek Patel😘          IT   2.0   \n",
      "21  Hunaid nakhuda 🥰    Computer   3.0   \n",
      "22     Niken Goswami  Mechanical   2.0   \n",
      "\n",
      "                                           confession  \n",
      "18             I love you let's meet at canteen 62626  \n",
      "19                                                Yyy  \n",
      "20  i really love my baku😘lets meet at ballubhai k...  \n",
      "21  I raelly Love your beard 😍😍 I want to top in e...  \n",
      "22  I really love your programming skills💕💕please ...  \n"
     ]
    }
   ],
   "source": [
    "print(X.head())\n",
    "print(X.tail())"
   ]
  },
  {
   "cell_type": "code",
   "execution_count": 61,
   "metadata": {},
   "outputs": [
    {
     "name": "stdout",
     "output_type": "stream",
     "text": [
      "enter number21\n",
      "Hunaid nakhuda 🥰\n",
      "Computer\n",
      "3.0\n",
      "I raelly Love your beard 😍😍 I want to top in exams please give me tips 🥰 🥰 🥰\n"
     ]
    }
   ],
   "source": [
    "personNum=int(input(\"enter number\"))\n",
    "print(X[\"Name\"][personNum])\n",
    "print(X[\"dept\"][personNum])\n",
    "print(X[\"year\"][personNum])\n",
    "print(X[\"confession\"][personNum])"
   ]
  },
  {
   "cell_type": "code",
   "execution_count": 62,
   "metadata": {},
   "outputs": [],
   "source": [
    "namec = X[\"Name\"][personNum]\n",
    "deptc = X[\"dept\"][personNum]\n",
    "yearc = int(X[\"year\"][personNum])\n",
    "confessionc = X[\"confession\"][personNum]"
   ]
  },
  {
   "cell_type": "code",
   "execution_count": 63,
   "metadata": {},
   "outputs": [
    {
     "data": {
      "text/plain": [
       "'Hunaid nakhuda 🥰'"
      ]
     },
     "execution_count": 63,
     "metadata": {},
     "output_type": "execute_result"
    }
   ],
   "source": [
    "namec"
   ]
  },
  {
   "cell_type": "code",
   "execution_count": 64,
   "metadata": {},
   "outputs": [
    {
     "data": {
      "text/plain": [
       "'Computer'"
      ]
     },
     "execution_count": 64,
     "metadata": {},
     "output_type": "execute_result"
    }
   ],
   "source": [
    "deptc"
   ]
  },
  {
   "cell_type": "code",
   "execution_count": 65,
   "metadata": {},
   "outputs": [],
   "source": [
    "str = \"\"\"        \n",
    "<div class=\\\"row\\\">\n",
    "\n",
    "    <div class=\\\"col s12 m6 l6\\\">\n",
    "\n",
    "        <div class=\\\"card blue\\\">\n",
    "\n",
    "            <div class=\\\"card-content white-text\\\">\n",
    "\n",
    "                <span class=\\\"card-title\\\">To: {} </span>\n",
    "                    <span>Department: {}</span><br>\n",
    "                        <span>Year: {}</span>\n",
    "                            <p>Confession:{}</p>\n",
    "            </div>\n",
    "        </div>\n",
    "    </div>\n",
    "\n",
    "\"\"\";"
   ]
  },
  {
   "cell_type": "code",
   "execution_count": 66,
   "metadata": {},
   "outputs": [],
   "source": [
    "str = str.format(namec,deptc,yearc,confessionc)"
   ]
  },
  {
   "cell_type": "code",
   "execution_count": 67,
   "metadata": {},
   "outputs": [
    {
     "data": {
      "text/plain": [
       "'        \\n<div class=\"row\">\\n\\n    <div class=\"col s12 m6 l6\">\\n\\n        <div class=\"card blue\">\\n\\n            <div class=\"card-content white-text\">\\n\\n                <span class=\"card-title\">To: Hunaid nakhuda 🥰 </span>\\n                    <span>Department: Computer</span><br>\\n                        <span>Year: 3</span>\\n                            <p>Confession:I raelly Love your beard 😍😍 I want to top in exams please give me tips 🥰 🥰 🥰</p>\\n            </div>\\n        </div>\\n    </div>\\n\\n'"
      ]
     },
     "execution_count": 67,
     "metadata": {},
     "output_type": "execute_result"
    }
   ],
   "source": [
    "str"
   ]
  },
  {
   "cell_type": "code",
   "execution_count": 68,
   "metadata": {},
   "outputs": [],
   "source": [
    "f = open(\"view.html\", mode=\"r\", encoding=\"utf-8\")\n",
    "contents = f.readlines()\n",
    "f.close()\n",
    "\n",
    "contents.insert(55, str)\n",
    "\n",
    "f = open(\"view.html\", mode=\"w\", encoding=\"utf-8\")\n",
    "contents = \"\".join(contents)\n",
    "f.write(contents)\n",
    "f.close()"
   ]
  },
  {
   "cell_type": "code",
   "execution_count": null,
   "metadata": {},
   "outputs": [],
   "source": []
  },
  {
   "cell_type": "code",
   "execution_count": null,
   "metadata": {},
   "outputs": [],
   "source": []
  },
  {
   "cell_type": "code",
   "execution_count": null,
   "metadata": {},
   "outputs": [],
   "source": []
  }
 ],
 "metadata": {
  "kernelspec": {
   "display_name": "Python 3",
   "language": "python",
   "name": "python3"
  },
  "language_info": {
   "codemirror_mode": {
    "name": "ipython",
    "version": 3
   },
   "file_extension": ".py",
   "mimetype": "text/x-python",
   "name": "python",
   "nbconvert_exporter": "python",
   "pygments_lexer": "ipython3",
   "version": "3.8.5"
  }
 },
 "nbformat": 4,
 "nbformat_minor": 4
}
